{
 "cells": [
  {
   "cell_type": "markdown",
   "metadata": {},
   "source": [
    "# Punto 5.10\n",
    "Punto (a)"
   ]
  },
  {
   "cell_type": "code",
   "execution_count": 3,
   "metadata": {},
   "outputs": [],
   "source": [
    "import numpy as np\n",
    "import matplotlib.pyplot as plt\n",
    "import statsmodels.api as sm\n",
    "from scipy.stats import pearsonr\n",
    "rng = np.random.default_rng(10)\n",
    "x1 = rng.uniform(0, 1, size=100)\n",
    "x2 = 0.5 * x1 + rng.normal(size=100) / 10\n",
    "y = 2 + 2 * x1 + 0.3 * x2 + rng.normal(size=100)\n",
    "\n"
   ]
  },
  {
   "cell_type": "markdown",
   "metadata": {},
   "source": [
    "Punto (b)"
   ]
  },
  {
   "cell_type": "code",
   "execution_count": 4,
   "metadata": {},
   "outputs": [
    {
     "name": "stdout",
     "output_type": "stream",
     "text": [
      "Correlación entre x1 y x2: 0.772324497691354\n"
     ]
    },
    {
     "data": {
      "image/png": "[encoded data removed]",
      "text/plain": [
       "<Figure size 640x480 with 1 Axes>"
      ]
     },
     "metadata": {},
     "output_type": "display_data"
    }
   ],
   "source": [
    "corr, _ = pearsonr(x1, x2)\n",
    "print(f\"Correlación entre x1 y x2: {corr}\")\n",
    "\n",
    "plt.scatter(x1, x2)\n",
    "plt.xlabel(\"x1\")\n",
    "plt.ylabel(\"x2\")\n",
    "plt.title(\"Scatterplot entre x1 y x2\")\n",
    "plt.show()\n"
   ]
  },
  {
   "cell_type": "markdown",
   "metadata": {},
   "source": [
    "Punto (c)"
   ]
  },
  {
   "cell_type": "code",
   "execution_count": 5,
   "metadata": {},
   "outputs": [
    {
     "name": "stdout",
     "output_type": "stream",
     "text": [
      "                            OLS Regression Results                            \n",
      "==============================================================================\n",
      "Dep. Variable:                      y   R-squared:                       0.291\n",
      "Model:                            OLS   Adj. R-squared:                  0.276\n",
      "Method:                 Least Squares   F-statistic:                     19.89\n",
      "Date:                Fri, 08 Nov 2024   Prob (F-statistic):           5.76e-08\n",
      "Time:                        18:22:33   Log-Likelihood:                -130.62\n",
      "No. Observations:                 100   AIC:                             267.2\n",
      "Df Residuals:                      97   BIC:                             275.1\n",
      "Df Model:                           2                                         \n",
      "Covariance Type:            nonrobust                                         \n",
      "==============================================================================\n",
      "                 coef    std err          t      P>|t|      [0.025      0.975]\n",
      "------------------------------------------------------------------------------\n",
      "const          1.9579      0.190     10.319      0.000       1.581       2.334\n",
      "x1             1.6154      0.527      3.065      0.003       0.569       2.661\n",
      "x2             0.9428      0.831      1.134      0.259      -0.707       2.592\n",
      "==============================================================================\n",
      "Omnibus:                        0.051   Durbin-Watson:                   1.964\n",
      "Prob(Omnibus):                  0.975   Jarque-Bera (JB):                0.041\n",
      "Skew:                          -0.036   Prob(JB):                        0.979\n",
      "Kurtosis:                       2.931   Cond. No.                         11.9\n",
      "==============================================================================\n",
      "\n",
      "Notes:\n",
      "[1] Standard Errors assume that the covariance matrix of the errors is correctly specified.\n"
     ]
    }
   ],
   "source": [
    "X = sm.add_constant(np.column_stack((x1, x2)))\n",
    "model = sm.OLS(y, X).fit()\n",
    "print(model.summary())\n",
    "\n"
   ]
  },
  {
   "cell_type": "markdown",
   "metadata": {},
   "source": [
    "Punto (d)"
   ]
  },
  {
   "cell_type": "code",
   "execution_count": 6,
   "metadata": {},
   "outputs": [
    {
     "name": "stdout",
     "output_type": "stream",
     "text": [
      "                            OLS Regression Results                            \n",
      "==============================================================================\n",
      "Dep. Variable:                      y   R-squared:                       0.281\n",
      "Model:                            OLS   Adj. R-squared:                  0.274\n",
      "Method:                 Least Squares   F-statistic:                     38.39\n",
      "Date:                Fri, 08 Nov 2024   Prob (F-statistic):           1.37e-08\n",
      "Time:                        18:30:58   Log-Likelihood:                -131.28\n",
      "No. Observations:                 100   AIC:                             266.6\n",
      "Df Residuals:                      98   BIC:                             271.8\n",
      "Df Model:                           1                                         \n",
      "Covariance Type:            nonrobust                                         \n",
      "==============================================================================\n",
      "                 coef    std err          t      P>|t|      [0.025      0.975]\n",
      "------------------------------------------------------------------------------\n",
      "const          1.9371      0.189     10.242      0.000       1.562       2.312\n",
      "x1             2.0771      0.335      6.196      0.000       1.412       2.742\n",
      "==============================================================================\n",
      "Omnibus:                        0.204   Durbin-Watson:                   1.931\n",
      "Prob(Omnibus):                  0.903   Jarque-Bera (JB):                0.042\n",
      "Skew:                          -0.046   Prob(JB):                        0.979\n",
      "Kurtosis:                       3.038   Cond. No.                         4.65\n",
      "==============================================================================\n",
      "\n",
      "Notes:\n",
      "[1] Standard Errors assume that the covariance matrix of the errors is correctly specified.\n"
     ]
    }
   ],
   "source": [
    "X1 = sm.add_constant(x1)\n",
    "model_x1 = sm.OLS(y, X1).fit()\n",
    "print(model_x1.summary())"
   ]
  },
  {
   "cell_type": "markdown",
   "metadata": {},
   "source": [
    "Punto (e)"
   ]
  },
  {
   "cell_type": "code",
   "execution_count": 7,
   "metadata": {},
   "outputs": [
    {
     "name": "stdout",
     "output_type": "stream",
     "text": [
      "                            OLS Regression Results                            \n",
      "==============================================================================\n",
      "Dep. Variable:                      y   R-squared:                       0.222\n",
      "Model:                            OLS   Adj. R-squared:                  0.214\n",
      "Method:                 Least Squares   F-statistic:                     27.99\n",
      "Date:                Fri, 08 Nov 2024   Prob (F-statistic):           7.43e-07\n",
      "Time:                        18:31:57   Log-Likelihood:                -135.24\n",
      "No. Observations:                 100   AIC:                             274.5\n",
      "Df Residuals:                      98   BIC:                             279.7\n",
      "Df Model:                           1                                         \n",
      "Covariance Type:            nonrobust                                         \n",
      "==============================================================================\n",
      "                 coef    std err          t      P>|t|      [0.025      0.975]\n",
      "------------------------------------------------------------------------------\n",
      "const          2.3239      0.154     15.124      0.000       2.019       2.629\n",
      "x1             2.9103      0.550      5.291      0.000       1.819       4.002\n",
      "==============================================================================\n",
      "Omnibus:                        0.191   Durbin-Watson:                   1.943\n",
      "Prob(Omnibus):                  0.909   Jarque-Bera (JB):                0.373\n",
      "Skew:                          -0.034   Prob(JB):                        0.830\n",
      "Kurtosis:                       2.709   Cond. No.                         6.11\n",
      "==============================================================================\n",
      "\n",
      "Notes:\n",
      "[1] Standard Errors assume that the covariance matrix of the errors is correctly specified.\n"
     ]
    }
   ],
   "source": [
    "X2 = sm.add_constant(x2)\n",
    "model_x2 = sm.OLS(y, X2).fit()\n",
    "print(model_x2.summary())\n",
    "\n"
   ]
  },
  {
   "cell_type": "markdown",
   "metadata": {},
   "source": [
    "Punto (g)"
   ]
  },
  {
   "cell_type": "code",
   "execution_count": 8,
   "metadata": {},
   "outputs": [
    {
     "name": "stdout",
     "output_type": "stream",
     "text": [
      "Modelo múltiple con nueva observación\n",
      "                            OLS Regression Results                            \n",
      "==============================================================================\n",
      "Dep. Variable:                      y   R-squared:                       0.292\n",
      "Model:                            OLS   Adj. R-squared:                  0.277\n",
      "Method:                 Least Squares   F-statistic:                     20.17\n",
      "Date:                Fri, 08 Nov 2024   Prob (F-statistic):           4.60e-08\n",
      "Time:                        18:34:53   Log-Likelihood:                -135.30\n",
      "No. Observations:                 101   AIC:                             276.6\n",
      "Df Residuals:                      98   BIC:                             284.5\n",
      "Df Model:                           2                                         \n",
      "Covariance Type:            nonrobust                                         \n",
      "==============================================================================\n",
      "                 coef    std err          t      P>|t|      [0.025      0.975]\n",
      "------------------------------------------------------------------------------\n",
      "const          2.0618      0.192     10.720      0.000       1.680       2.443\n",
      "x1             0.8575      0.466      1.838      0.069      -0.068       1.783\n",
      "x2             2.2663      0.705      3.216      0.002       0.868       3.665\n",
      "==============================================================================\n",
      "Omnibus:                        0.139   Durbin-Watson:                   1.894\n",
      "Prob(Omnibus):                  0.933   Jarque-Bera (JB):                0.320\n",
      "Skew:                           0.013   Prob(JB):                        0.852\n",
      "Kurtosis:                       2.725   Cond. No.                         9.68\n",
      "==============================================================================\n",
      "\n",
      "Notes:\n",
      "[1] Standard Errors assume that the covariance matrix of the errors is correctly specified.\n",
      "Modelo solo x1 con nueva observación\n",
      "                            OLS Regression Results                            \n",
      "==============================================================================\n",
      "Dep. Variable:                      y   R-squared:                       0.217\n",
      "Model:                            OLS   Adj. R-squared:                  0.209\n",
      "Method:                 Least Squares   F-statistic:                     27.42\n",
      "Date:                Fri, 08 Nov 2024   Prob (F-statistic):           9.23e-07\n",
      "Time:                        18:34:53   Log-Likelihood:                -140.37\n",
      "No. Observations:                 101   AIC:                             284.7\n",
      "Df Residuals:                      99   BIC:                             290.0\n",
      "Df Model:                           1                                         \n",
      "Covariance Type:            nonrobust                                         \n",
      "==============================================================================\n",
      "                 coef    std err          t      P>|t|      [0.025      0.975]\n",
      "------------------------------------------------------------------------------\n",
      "const          2.0739      0.201     10.310      0.000       1.675       2.473\n",
      "x1             1.8760      0.358      5.236      0.000       1.165       2.587\n",
      "==============================================================================\n",
      "Omnibus:                        8.232   Durbin-Watson:                   1.636\n",
      "Prob(Omnibus):                  0.016   Jarque-Bera (JB):               10.781\n",
      "Skew:                           0.396   Prob(JB):                      0.00456\n",
      "Kurtosis:                       4.391   Cond. No.                         4.61\n",
      "==============================================================================\n",
      "\n",
      "Notes:\n",
      "[1] Standard Errors assume that the covariance matrix of the errors is correctly specified.\n",
      "Modelo solo x2 con nueva observación\n",
      "                            OLS Regression Results                            \n",
      "==============================================================================\n",
      "Dep. Variable:                      y   R-squared:                       0.267\n",
      "Model:                            OLS   Adj. R-squared:                  0.260\n",
      "Method:                 Least Squares   F-statistic:                     36.10\n",
      "Date:                Fri, 08 Nov 2024   Prob (F-statistic):           3.13e-08\n",
      "Time:                        18:34:53   Log-Likelihood:                -137.01\n",
      "No. Observations:                 101   AIC:                             278.0\n",
      "Df Residuals:                      99   BIC:                             283.3\n",
      "Df Model:                           1                                         \n",
      "Covariance Type:            nonrobust                                         \n",
      "==============================================================================\n",
      "                 coef    std err          t      P>|t|      [0.025      0.975]\n",
      "------------------------------------------------------------------------------\n",
      "const          2.2840      0.151     15.088      0.000       1.984       2.584\n",
      "x1             3.1458      0.524      6.008      0.000       2.107       4.185\n",
      "==============================================================================\n",
      "Omnibus:                        0.495   Durbin-Watson:                   1.939\n",
      "Prob(Omnibus):                  0.781   Jarque-Bera (JB):                0.631\n",
      "Skew:                          -0.041   Prob(JB):                        0.729\n",
      "Kurtosis:                       2.621   Cond. No.                         5.84\n",
      "==============================================================================\n",
      "\n",
      "Notes:\n",
      "[1] Standard Errors assume that the covariance matrix of the errors is correctly specified.\n"
     ]
    }
   ],
   "source": [
    "x1 = np.concatenate([x1, [0.1]])\n",
    "x2 = np.concatenate([x2, [0.8]])\n",
    "y = np.concatenate([y, [6]])\n",
    "\n",
    "# Reajustar los modelos con la nueva observación\n",
    "X = sm.add_constant(np.column_stack((x1, x2)))\n",
    "model = sm.OLS(y, X).fit()\n",
    "print(\"Modelo múltiple con nueva observación\")\n",
    "print(model.summary())\n",
    "\n",
    "X1 = sm.add_constant(x1)\n",
    "model_x1 = sm.OLS(y, X1).fit()\n",
    "print(\"Modelo solo x1 con nueva observación\")\n",
    "print(model_x1.summary())\n",
    "\n",
    "X2 = sm.add_constant(x2)\n",
    "model_x2 = sm.OLS(y, X2).fit()\n",
    "print(\"Modelo solo x2 con nueva observación\")\n",
    "print(model_x2.summary())\n",
    "\n"
   ]
  }
 ],
 "metadata": {
  "kernelspec": {
   "display_name": "venv",
   "language": "python",
   "name": "python3"
  },
  "language_info": {
   "codemirror_mode": {
    "name": "ipython",
    "version": 3
   },
   "file_extension": ".py",
   "mimetype": "text/x-python",
   "name": "python",
   "nbconvert_exporter": "python",
   "pygments_lexer": "ipython3",
   "version": "3.11.4"
  }
 },
 "nbformat": 4,
 "nbformat_minor": 2
}
